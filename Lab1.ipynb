{
  "nbformat": 4,
  "nbformat_minor": 0,
  "metadata": {
    "colab": {
      "provenance": [],
      "authorship_tag": "ABX9TyP8X2UCyrxq5GjBXu04/7kQ"
    },
    "kernelspec": {
      "name": "python3",
      "display_name": "Python 3"
    },
    "language_info": {
      "name": "python"
    }
  },
  "cells": [
    {
      "cell_type": "markdown",
      "source": [],
      "metadata": {
        "id": "TwzIe7Yk90en"
      }
    },
    {
      "cell_type": "markdown",
      "source": [
        "##Markdown\n"
      ],
      "metadata": {
        "id": "nhi3GfaW92NK"
      }
    },
    {
      "cell_type": "markdown",
      "source": [
        "Список\n",
        "1. Рисунок\n",
        "2. Таблицу\n",
        "3. Картинка\n",
        "4. Блок-схема\n"
      ],
      "metadata": {
        "id": "eZn9DW-v-hHS"
      }
    },
    {
      "cell_type": "markdown",
      "source": [],
      "metadata": {
        "id": "_0_lgPbE-yY0"
      }
    },
    {
      "cell_type": "markdown",
      "source": [],
      "metadata": {
        "id": "joyOI7jK-jKR"
      }
    }
  ]
}